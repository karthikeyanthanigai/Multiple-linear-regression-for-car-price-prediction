{
  "nbformat": 4,
  "nbformat_minor": 0,
  "metadata": {
    "colab": {
      "name": "Multiple_linear_reg_for_car_dataset",
      "provenance": [],
      "collapsed_sections": [],
      "authorship_tag": "ABX9TyNub/j6RsUsDpSKae8WubTw",
      "include_colab_link": true
    },
    "kernelspec": {
      "name": "python3",
      "display_name": "Python 3"
    }
  },
  "cells": [
    {
      "cell_type": "markdown",
      "metadata": {
        "id": "view-in-github",
        "colab_type": "text"
      },
      "source": [
        "<a href=\"https://colab.research.google.com/github/karthikeyanthanigai/Multiple-linear-regression-for-car-price-prediction/blob/master/Multiple_linear_reg_for_car_dataset.ipynb\" target=\"_parent\"><img src=\"https://colab.research.google.com/assets/colab-badge.svg\" alt=\"Open In Colab\"/></a>"
      ]
    },
    {
      "cell_type": "code",
      "metadata": {
        "id": "CzMO9oJFxhmV",
        "colab_type": "code",
        "colab": {}
      },
      "source": [
        "# Importing the libraries\n",
        "import numpy as np\n",
        "import matplotlib.pyplot as plt\n",
        "import pandas as pd"
      ],
      "execution_count": 0,
      "outputs": []
    },
    {
      "cell_type": "markdown",
      "metadata": {
        "id": "MbtVv02W6_ZO",
        "colab_type": "text"
      },
      "source": [
        "![alt text](https://wallpaperhd.wiki/wp-content/uploads/hd-backgrounds-download-for-picsart-wallpaper.wiki-white-audi-a5-background-pic-wpc0010868.jpg)\n"
      ]
    },
    {
      "cell_type": "code",
      "metadata": {
        "id": "HWqSMuMDxpCu",
        "colab_type": "code",
        "colab": {
          "base_uri": "https://localhost:8080/",
          "height": 297
        },
        "outputId": "9aa22947-4eb7-4f3b-f55a-2157d3b2729c"
      },
      "source": [
        "# Importing the dataset\n",
        "dataset = pd.read_csv('car.csv')\n",
        "#this function will provide the descriptive statistics of the dataset.(only int value)\n",
        "dataset.describe()"
      ],
      "execution_count": 2,
      "outputs": [
        {
          "output_type": "execute_result",
          "data": {
            "text/html": [
              "<div>\n",
              "<style scoped>\n",
              "    .dataframe tbody tr th:only-of-type {\n",
              "        vertical-align: middle;\n",
              "    }\n",
              "\n",
              "    .dataframe tbody tr th {\n",
              "        vertical-align: top;\n",
              "    }\n",
              "\n",
              "    .dataframe thead th {\n",
              "        text-align: right;\n",
              "    }\n",
              "</style>\n",
              "<table border=\"1\" class=\"dataframe\">\n",
              "  <thead>\n",
              "    <tr style=\"text-align: right;\">\n",
              "      <th></th>\n",
              "      <th>year</th>\n",
              "      <th>price</th>\n",
              "      <th>mileage</th>\n",
              "    </tr>\n",
              "  </thead>\n",
              "  <tbody>\n",
              "    <tr>\n",
              "      <th>count</th>\n",
              "      <td>150.000000</td>\n",
              "      <td>150.000000</td>\n",
              "      <td>150.000000</td>\n",
              "    </tr>\n",
              "    <tr>\n",
              "      <th>mean</th>\n",
              "      <td>2008.726667</td>\n",
              "      <td>12961.933333</td>\n",
              "      <td>44260.646667</td>\n",
              "    </tr>\n",
              "    <tr>\n",
              "      <th>std</th>\n",
              "      <td>2.200966</td>\n",
              "      <td>3122.481735</td>\n",
              "      <td>26982.104322</td>\n",
              "    </tr>\n",
              "    <tr>\n",
              "      <th>min</th>\n",
              "      <td>2000.000000</td>\n",
              "      <td>3800.000000</td>\n",
              "      <td>4867.000000</td>\n",
              "    </tr>\n",
              "    <tr>\n",
              "      <th>25%</th>\n",
              "      <td>2008.000000</td>\n",
              "      <td>10995.000000</td>\n",
              "      <td>27200.250000</td>\n",
              "    </tr>\n",
              "    <tr>\n",
              "      <th>50%</th>\n",
              "      <td>2009.000000</td>\n",
              "      <td>13591.500000</td>\n",
              "      <td>36385.000000</td>\n",
              "    </tr>\n",
              "    <tr>\n",
              "      <th>75%</th>\n",
              "      <td>2010.000000</td>\n",
              "      <td>14904.500000</td>\n",
              "      <td>55124.500000</td>\n",
              "    </tr>\n",
              "    <tr>\n",
              "      <th>max</th>\n",
              "      <td>2012.000000</td>\n",
              "      <td>21992.000000</td>\n",
              "      <td>151479.000000</td>\n",
              "    </tr>\n",
              "  </tbody>\n",
              "</table>\n",
              "</div>"
            ],
            "text/plain": [
              "              year         price        mileage\n",
              "count   150.000000    150.000000     150.000000\n",
              "mean   2008.726667  12961.933333   44260.646667\n",
              "std       2.200966   3122.481735   26982.104322\n",
              "min    2000.000000   3800.000000    4867.000000\n",
              "25%    2008.000000  10995.000000   27200.250000\n",
              "50%    2009.000000  13591.500000   36385.000000\n",
              "75%    2010.000000  14904.500000   55124.500000\n",
              "max    2012.000000  21992.000000  151479.000000"
            ]
          },
          "metadata": {
            "tags": []
          },
          "execution_count": 2
        }
      ]
    },
    {
      "cell_type": "code",
      "metadata": {
        "id": "o7jyDByyxo-V",
        "colab_type": "code",
        "colab": {
          "base_uri": "https://localhost:8080/",
          "height": 340
        },
        "outputId": "55fb21e7-3ba4-44bc-bd1e-6520058cc7c3"
      },
      "source": [
        "import seaborn as sns\n",
        "#Other methods like Back Propagation/ Forward Propagation can be used. But Correlation Matrix is best for most speedy analysis.\n",
        "correlation_matrix = dataset.corr().round(2)\n",
        "# annot = True to print the values inside the square\n",
        "sns.heatmap(data=correlation_matrix, annot=True)"
      ],
      "execution_count": 3,
      "outputs": [
        {
          "output_type": "stream",
          "text": [
            "/usr/local/lib/python3.6/dist-packages/statsmodels/tools/_testing.py:19: FutureWarning: pandas.util.testing is deprecated. Use the functions in the public API at pandas.testing instead.\n",
            "  import pandas.util.testing as tm\n"
          ],
          "name": "stderr"
        },
        {
          "output_type": "execute_result",
          "data": {
            "text/plain": [
              "<matplotlib.axes._subplots.AxesSubplot at 0x7f93a5381d30>"
            ]
          },
          "metadata": {
            "tags": []
          },
          "execution_count": 3
        },
        {
          "output_type": "display_data",
          "data": {
            "image/png": "[encoded data removed]",
            "text/plain": [
              "<Figure size 432x288 with 2 Axes>"
            ]
          },
          "metadata": {
            "tags": [],
            "needs_background": "light"
          }
        }
      ]
    },
    {
      "cell_type": "code",
      "metadata": {
        "id": "LIJzmdTJ6XpF",
        "colab_type": "code",
        "colab": {
          "base_uri": "https://localhost:8080/",
          "height": 204
        },
        "outputId": "7b2b4ef3-6976-49b8-c2d4-be8dc1cf0476"
      },
      "source": [
        "dataset.head()"
      ],
      "execution_count": 11,
      "outputs": [
        {
          "output_type": "execute_result",
          "data": {
            "text/html": [
              "<div>\n",
              "<style scoped>\n",
              "    .dataframe tbody tr th:only-of-type {\n",
              "        vertical-align: middle;\n",
              "    }\n",
              "\n",
              "    .dataframe tbody tr th {\n",
              "        vertical-align: top;\n",
              "    }\n",
              "\n",
              "    .dataframe thead th {\n",
              "        text-align: right;\n",
              "    }\n",
              "</style>\n",
              "<table border=\"1\" class=\"dataframe\">\n",
              "  <thead>\n",
              "    <tr style=\"text-align: right;\">\n",
              "      <th></th>\n",
              "      <th>year</th>\n",
              "      <th>model</th>\n",
              "      <th>price</th>\n",
              "      <th>mileage</th>\n",
              "      <th>color</th>\n",
              "      <th>transmission</th>\n",
              "    </tr>\n",
              "  </thead>\n",
              "  <tbody>\n",
              "    <tr>\n",
              "      <th>0</th>\n",
              "      <td>2011</td>\n",
              "      <td>SEL</td>\n",
              "      <td>21992</td>\n",
              "      <td>7413</td>\n",
              "      <td>Yellow</td>\n",
              "      <td>AUTO</td>\n",
              "    </tr>\n",
              "    <tr>\n",
              "      <th>1</th>\n",
              "      <td>2011</td>\n",
              "      <td>SEL</td>\n",
              "      <td>20995</td>\n",
              "      <td>10926</td>\n",
              "      <td>Gray</td>\n",
              "      <td>AUTO</td>\n",
              "    </tr>\n",
              "    <tr>\n",
              "      <th>2</th>\n",
              "      <td>2011</td>\n",
              "      <td>SEL</td>\n",
              "      <td>19995</td>\n",
              "      <td>7351</td>\n",
              "      <td>Silver</td>\n",
              "      <td>AUTO</td>\n",
              "    </tr>\n",
              "    <tr>\n",
              "      <th>3</th>\n",
              "      <td>2011</td>\n",
              "      <td>SEL</td>\n",
              "      <td>17809</td>\n",
              "      <td>11613</td>\n",
              "      <td>Gray</td>\n",
              "      <td>AUTO</td>\n",
              "    </tr>\n",
              "    <tr>\n",
              "      <th>4</th>\n",
              "      <td>2012</td>\n",
              "      <td>SE</td>\n",
              "      <td>17500</td>\n",
              "      <td>8367</td>\n",
              "      <td>White</td>\n",
              "      <td>AUTO</td>\n",
              "    </tr>\n",
              "  </tbody>\n",
              "</table>\n",
              "</div>"
            ],
            "text/plain": [
              "   year model  price  mileage   color transmission\n",
              "0  2011   SEL  21992     7413  Yellow         AUTO\n",
              "1  2011   SEL  20995    10926    Gray         AUTO\n",
              "2  2011   SEL  19995     7351  Silver         AUTO\n",
              "3  2011   SEL  17809    11613    Gray         AUTO\n",
              "4  2012    SE  17500     8367   White         AUTO"
            ]
          },
          "metadata": {
            "tags": []
          },
          "execution_count": 11
        }
      ]
    },
    {
      "cell_type": "markdown",
      "metadata": {
        "id": "Fz8M9XAV6yx9",
        "colab_type": "text"
      },
      "source": [
        "here we are predicitng the price(dependent variable) of a car and we are taking year,model,mileage,transmission as independent variables!"
      ]
    },
    {
      "cell_type": "code",
      "metadata": {
        "id": "MkEapzZnxo7C",
        "colab_type": "code",
        "colab": {}
      },
      "source": [
        "#determine X and y variables(for correlation matrix this values is taken as independent variables)\n",
        "X = dataset.iloc[:, [0,1,3,5]].values\n",
        "y = dataset.iloc[:, [2]].values"
      ],
      "execution_count": 0,
      "outputs": []
    },
    {
      "cell_type": "code",
      "metadata": {
        "id": "VxYtUrL5xo3D",
        "colab_type": "code",
        "colab": {}
      },
      "source": [
        "#label encoding for character data\n",
        "from sklearn.preprocessing import LabelEncoder\n",
        "labelencoder1 = LabelEncoder()\n",
        "X[:, 1] = labelencoder1.fit_transform(X[:, 1])\n",
        "labelencoder2 = LabelEncoder()\n",
        "X[:, -1] = labelencoder2.fit_transform(X[:, -1])"
      ],
      "execution_count": 0,
      "outputs": []
    },
    {
      "cell_type": "code",
      "metadata": {
        "id": "Pcd37mAdxoys",
        "colab_type": "code",
        "colab": {}
      },
      "source": [
        "#feature scaling\n",
        "from sklearn.preprocessing import StandardScaler\n",
        "sc_X = StandardScaler()\n",
        "X = sc_X.fit_transform(X)"
      ],
      "execution_count": 0,
      "outputs": []
    },
    {
      "cell_type": "code",
      "metadata": {
        "id": "g0w2QoH-xot9",
        "colab_type": "code",
        "colab": {}
      },
      "source": [
        "#split\n",
        "from sklearn.model_selection import train_test_split\n",
        "X_train ,X_test, y_train ,y_test = train_test_split(X, y, test_size=0.2, random_state = 0)"
      ],
      "execution_count": 0,
      "outputs": []
    },
    {
      "cell_type": "code",
      "metadata": {
        "id": "Gq9-jDjOxopl",
        "colab_type": "code",
        "colab": {
          "base_uri": "https://localhost:8080/",
          "height": 34
        },
        "outputId": "44b54f03-946c-4118-970a-d48ab5e541fe"
      },
      "source": [
        "#ols\n",
        "from sklearn.linear_model import LinearRegression\n",
        "lin_reg=LinearRegression()\n",
        "lin_reg.fit(X_train,y_train)\n",
        "\n",
        "#predicting the value\n",
        "y_pred1= lin_reg.predict(X_test)\n",
        "\n",
        "#r2_score result\n",
        "from sklearn.metrics import r2_score, mean_squared_error\n",
        "r_squared1 = r2_score(y_test, y_pred1)\n",
        "print(\"Coefficient of Determination using ols method = \",r_squared1)"
      ],
      "execution_count": 8,
      "outputs": [
        {
          "output_type": "stream",
          "text": [
            "Coefficient of Determination using ols method =  0.725781783369461\n"
          ],
          "name": "stdout"
        }
      ]
    },
    {
      "cell_type": "code",
      "metadata": {
        "id": "idbrHaDUxolL",
        "colab_type": "code",
        "colab": {
          "base_uri": "https://localhost:8080/",
          "height": 88
        },
        "outputId": "b4bdbc26-4867-4d0c-bbd7-5378c231e9ea"
      },
      "source": [
        "#SGD\n",
        "from sklearn.linear_model import SGDRegressor, LinearRegression\n",
        "regressor = SGDRegressor(max_iter=10000, tol=1e-3)\n",
        "regressor.fit(X_train, y_train)\n",
        "\n",
        "#predicting the value\n",
        "y_pred = regressor.predict(X_test)\n",
        "\n",
        "#r2_score result\n",
        "from sklearn.metrics import r2_score, mean_squared_error\n",
        "r_squared = r2_score(y_test, y_pred)\n",
        "print(\"Coefficient of Determination using sgd method = \",r_squared)"
      ],
      "execution_count": 9,
      "outputs": [
        {
          "output_type": "stream",
          "text": [
            "Coefficient of Determination using sgd method =  0.7266754207444466\n"
          ],
          "name": "stdout"
        },
        {
          "output_type": "stream",
          "text": [
            "/usr/local/lib/python3.6/dist-packages/sklearn/utils/validation.py:760: DataConversionWarning: A column-vector y was passed when a 1d array was expected. Please change the shape of y to (n_samples, ), for example using ravel().\n",
            "  y = column_or_1d(y, warn=True)\n"
          ],
          "name": "stderr"
        }
      ]
    },
    {
      "cell_type": "code",
      "metadata": {
        "id": "H93IUOwW67Yv",
        "colab_type": "code",
        "colab": {}
      },
      "source": [
        ""
      ],
      "execution_count": 0,
      "outputs": []
    }
  ]
}